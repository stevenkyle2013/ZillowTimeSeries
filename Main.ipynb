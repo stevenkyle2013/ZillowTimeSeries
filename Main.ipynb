{
 "cells": [
  {
   "cell_type": "markdown",
   "metadata": {},
   "source": [
    "# Business Proposal"
   ]
  },
  {
   "cell_type": "markdown",
   "metadata": {},
   "source": [
    "Business problem: What are the best 5 zip codes to invest in?\n",
    "\n",
    "Business - A real estate investment firm looking to acquire new property to invest in.\n",
    "\n",
    "Focus - Investing in real estate for high growth zip codes.\n",
    "\n",
    "Narrowing down zip codes - Look to see where everyone is trying to move to. Find the highest historic ROI from the past 10 years.\n",
    "\n",
    "Chosen State: Idaho\n",
    " - Based off of Census and other surveys deciding to go with Idaho.\n",
    "\n",
    "Ways to narrow down zipcodes\n",
    " - set certain price limits\n",
    " - look at cities\n",
    "     - maybe look at what cities people are moving to\n",
    " - look at states\n",
    "     - maybe look at what states people are moving to\n",
    " - look at ROI per county/city/state\n",
    " - get rid of any entries that aren't part of a metro\n",
    " - get rid of entries that have less than 10 years of data"
   ]
  },
  {
   "cell_type": "markdown",
   "metadata": {},
   "source": [
    "# Loading all necessary packages and loading data file"
   ]
  },
  {
   "cell_type": "code",
   "execution_count": null,
   "metadata": {
    "ExecuteTime": {
     "end_time": "2021-04-01T02:24:03.943909Z",
     "start_time": "2021-04-01T02:24:02.971490Z"
    }
   },
   "outputs": [],
   "source": [
    "import pandas as pd\n",
    "import numpy as np\n",
    "import matplotlib.pyplot as plt\n",
    "\n",
    "\n",
    "%matplotlib inline\n",
    "\n",
    "pd.set_option('display.max_rows', 500)\n",
    "pd.set_option('display.max_columns', 1000)\n",
    "pd.set_option('display.width', 1000)"
   ]
  },
  {
   "cell_type": "code",
   "execution_count": null,
   "metadata": {
    "ExecuteTime": {
     "end_time": "2021-04-01T02:24:04.623978Z",
     "start_time": "2021-04-01T02:24:03.947960Z"
    }
   },
   "outputs": [],
   "source": [
    "data = pd.read_csv(\"Data/zillow_data.csv\")"
   ]
  },
  {
   "cell_type": "markdown",
   "metadata": {},
   "source": [
    "# EDA"
   ]
  },
  {
   "cell_type": "code",
   "execution_count": null,
   "metadata": {
    "ExecuteTime": {
     "end_time": "2021-04-01T02:24:04.889599Z",
     "start_time": "2021-04-01T02:24:04.626797Z"
    }
   },
   "outputs": [],
   "source": [
    "data.head()"
   ]
  },
  {
   "cell_type": "code",
   "execution_count": null,
   "metadata": {
    "ExecuteTime": {
     "end_time": "2021-04-01T02:24:05.164419Z",
     "start_time": "2021-04-01T02:24:04.891918Z"
    }
   },
   "outputs": [],
   "source": [
    "data.tail()"
   ]
  },
  {
   "cell_type": "code",
   "execution_count": null,
   "metadata": {
    "ExecuteTime": {
     "end_time": "2021-04-01T02:24:05.176516Z",
     "start_time": "2021-04-01T02:24:05.168313Z"
    }
   },
   "outputs": [],
   "source": [
    "data.shape"
   ]
  },
  {
   "cell_type": "markdown",
   "metadata": {},
   "source": [
    "## General info about the dataset"
   ]
  },
  {
   "cell_type": "code",
   "execution_count": null,
   "metadata": {
    "ExecuteTime": {
     "end_time": "2021-04-01T02:24:05.189455Z",
     "start_time": "2021-04-01T02:24:05.179756Z"
    }
   },
   "outputs": [],
   "source": [
    "print('The data has {} number of entries. The number of unique RegionNames is {}.'.format(data.shape[0],data['RegionName'].nunique()))\n",
    "print('So there seems to be no duplicate entries.')"
   ]
  },
  {
   "cell_type": "code",
   "execution_count": null,
   "metadata": {
    "ExecuteTime": {
     "end_time": "2021-04-01T02:24:05.203733Z",
     "start_time": "2021-04-01T02:24:05.195158Z"
    }
   },
   "outputs": [],
   "source": [
    "print('This dataset looks at {} different \"states\" (includes DC).'.format(data['State'].nunique()))"
   ]
  },
  {
   "cell_type": "code",
   "execution_count": null,
   "metadata": {
    "ExecuteTime": {
     "end_time": "2021-04-01T02:24:05.214090Z",
     "start_time": "2021-04-01T02:24:05.207539Z"
    }
   },
   "outputs": [],
   "source": [
    "print('This dataset looks at median prices of houses of a given zipcode from 1996-04 to 2018-04.')"
   ]
  },
  {
   "cell_type": "markdown",
   "metadata": {},
   "source": [
    "## Looking at missing values in the dataframe"
   ]
  },
  {
   "cell_type": "code",
   "execution_count": null,
   "metadata": {
    "ExecuteTime": {
     "end_time": "2021-04-01T02:24:05.246402Z",
     "start_time": "2021-04-01T02:24:05.216916Z"
    }
   },
   "outputs": [],
   "source": [
    "#Seeing how many na values are in the dataset\n",
    "print('There are {} Nan values in the dataset.'.format(data.isna().sum().sum()))"
   ]
  },
  {
   "cell_type": "code",
   "execution_count": null,
   "metadata": {
    "ExecuteTime": {
     "end_time": "2021-04-01T02:24:05.423682Z",
     "start_time": "2021-04-01T02:24:05.251408Z"
    }
   },
   "outputs": [],
   "source": [
    "#Checking to see what columns have na values.\n",
    "column_names = data.columns\n",
    "na_columns = []\n",
    "for name in column_names:\n",
    "    NumberOfNa = 0\n",
    "    NumberOfNa = data[name].isna().sum()\n",
    "    if NumberOfNa > 0:\n",
    "        na_columns.append(name)\n",
    "print('There are {} columns that have na values.'.format(len(na_columns)))\n",
    "print('Only identifier column with na is \"Metro\", the others are missing values for dates')"
   ]
  },
  {
   "cell_type": "code",
   "execution_count": null,
   "metadata": {
    "ExecuteTime": {
     "end_time": "2021-04-01T02:24:05.767082Z",
     "start_time": "2021-04-01T02:24:05.430026Z"
    }
   },
   "outputs": [],
   "source": [
    "#Looking at the entries with Nan values for Metro\n",
    "len(data.loc[lambda x: x.Metro.isna()])\n",
    "data.loc[lambda x: x.Metro.isna()].head()"
   ]
  },
  {
   "cell_type": "code",
   "execution_count": null,
   "metadata": {
    "ExecuteTime": {
     "end_time": "2021-04-01T02:24:05.800085Z",
     "start_time": "2021-04-01T02:24:05.772529Z"
    }
   },
   "outputs": [],
   "source": [
    "# We can drop all the identifiers besides State, City and RegionName (Zipcode)\n",
    "data_ZipcodeID = data.drop(['RegionID', 'Metro', 'CountyName', 'SizeRank'], axis=1)"
   ]
  },
  {
   "cell_type": "code",
   "execution_count": null,
   "metadata": {
    "ExecuteTime": {
     "end_time": "2021-04-01T02:24:06.072862Z",
     "start_time": "2021-04-01T02:24:05.804328Z"
    }
   },
   "outputs": [],
   "source": [
    "# Creating a Dataframe with all entries that have any NA values\n",
    "null_data = data_ZipcodeID[data_ZipcodeID.isnull().any(axis=1)]\n",
    "print(len(null_data))\n",
    "null_data.head()"
   ]
  },
  {
   "cell_type": "markdown",
   "metadata": {},
   "source": [
    "A lot of the Nan values seem to be coming from possible newer properties that have been built."
   ]
  },
  {
   "cell_type": "code",
   "execution_count": null,
   "metadata": {
    "ExecuteTime": {
     "end_time": "2021-04-01T02:24:06.088026Z",
     "start_time": "2021-04-01T02:24:06.078056Z"
    }
   },
   "outputs": [],
   "source": [
    "print('The newest zipcode property, aka the last timestamp that has any nan value is {}.'.format(\n",
    "    null_data.columns[null_data.isnull().any()][-1]))"
   ]
  },
  {
   "cell_type": "markdown",
   "metadata": {},
   "source": [
    "## Lets narrow the dataset to just Idaho before continuing on EDA"
   ]
  },
  {
   "cell_type": "code",
   "execution_count": null,
   "metadata": {
    "ExecuteTime": {
     "end_time": "2021-04-01T02:24:06.464523Z",
     "start_time": "2021-04-01T02:24:06.092112Z"
    }
   },
   "outputs": [],
   "source": [
    "# Creating Idaho dataframe\n",
    "Idaho = data_ZipcodeID[data_ZipcodeID['State'] == 'ID']\n",
    "Idaho.head()"
   ]
  },
  {
   "cell_type": "code",
   "execution_count": null,
   "metadata": {
    "ExecuteTime": {
     "end_time": "2021-04-01T02:24:06.790930Z",
     "start_time": "2021-04-01T02:24:06.467034Z"
    }
   },
   "outputs": [],
   "source": [
    "# Creating a Dataframe with all entries that have any NA values for Idaho\n",
    "Idaho_null = Idaho[Idaho.isnull().any(axis=1)]\n",
    "print('There are {} zip codes on record for Idaho.'.format(len(Idaho)))\n",
    "print('There are {} zip codes that have missing entries'.format(len(Idaho_null)))\n",
    "Idaho_null.head()"
   ]
  },
  {
   "cell_type": "code",
   "execution_count": null,
   "metadata": {
    "ExecuteTime": {
     "end_time": "2021-04-01T02:24:06.813516Z",
     "start_time": "2021-04-01T02:24:06.798009Z"
    }
   },
   "outputs": [],
   "source": [
    "print('The newest Idaho zipcode property, aka the last timestamp that has any nan value is {}.'.format(\n",
    "    Idaho_null.columns[Idaho_null.isnull().any()][-1]))"
   ]
  },
  {
   "cell_type": "code",
   "execution_count": null,
   "metadata": {
    "ExecuteTime": {
     "end_time": "2021-04-01T02:24:06.866711Z",
     "start_time": "2021-04-01T02:24:06.836698Z"
    }
   },
   "outputs": [],
   "source": [
    "#Dropping any zipcodes that do not have 10 years worth of data\n",
    "Idaho = Idaho.drop(Idaho[Idaho['2008-04'].isnull()].index)\n",
    "\n",
    "#Dropping columns for any previous data older than 10 years.\n",
    "Idaho.dropna(axis=1, how='any', inplace=True)\n",
    "\n",
    "print('2 of the Idaho zipcodes did not meet the 10 years worth of data requirement.')\n",
    "print('The new number of zipcodes of the dataframe is {}.'.format(len(Idaho)))\n",
    "print('The Idaho dataset now has no nan values and spans from {} to {}'.format(Idaho.columns[3],Idaho.columns[-1]))"
   ]
  },
  {
   "cell_type": "code",
   "execution_count": null,
   "metadata": {
    "ExecuteTime": {
     "end_time": "2021-04-01T02:24:07.082231Z",
     "start_time": "2021-04-01T02:24:06.871892Z"
    }
   },
   "outputs": [],
   "source": [
    "Idaho.head()"
   ]
  },
  {
   "cell_type": "markdown",
   "metadata": {},
   "source": [
    "## Looking at last 12 months price distribution for Idaho"
   ]
  },
  {
   "cell_type": "code",
   "execution_count": null,
   "metadata": {
    "ExecuteTime": {
     "end_time": "2021-04-01T02:24:07.110108Z",
     "start_time": "2021-04-01T02:24:07.096933Z"
    }
   },
   "outputs": [],
   "source": [
    "Idaho['Last12MonthAvg'] = Idaho.iloc[:,-12:].mean(axis=1)"
   ]
  },
  {
   "cell_type": "code",
   "execution_count": null,
   "metadata": {
    "ExecuteTime": {
     "end_time": "2021-04-01T02:24:07.169035Z",
     "start_time": "2021-04-01T02:24:07.139607Z"
    }
   },
   "outputs": [],
   "source": [
    "Idaho['Last12MonthAvg'].describe()"
   ]
  },
  {
   "cell_type": "code",
   "execution_count": null,
   "metadata": {
    "ExecuteTime": {
     "end_time": "2021-04-01T02:24:07.635838Z",
     "start_time": "2021-04-01T02:24:07.202961Z"
    }
   },
   "outputs": [],
   "source": [
    "plt.figure(figsize=(15,6))\n",
    "plt.hist(Idaho['Last12MonthAvg'], bins='auto');\n",
    "plt.ylabel('Number of Zipcodes');\n",
    "plt.xlabel('Price');"
   ]
  },
  {
   "cell_type": "markdown",
   "metadata": {},
   "source": [
    "## Calculate ROI (1yr, 5yr, 10yr) and CV"
   ]
  },
  {
   "cell_type": "code",
   "execution_count": null,
   "metadata": {
    "ExecuteTime": {
     "end_time": "2021-04-01T02:24:07.663262Z",
     "start_time": "2021-04-01T02:24:07.649708Z"
    }
   },
   "outputs": [],
   "source": [
    "#Calculate ROI for 1 year, 5 year, 10 year\n",
    "Idaho['1yr_ROI'] = (Idaho['2018-04'] / Idaho['2017-04']) - 1\n",
    "Idaho['5yr_ROI'] = (Idaho['2018-04'] / Idaho['2013-04']) - 1\n",
    "Idaho['10yr_ROI'] = (Idaho['2018-04'] / Idaho['2008-04']) - 1"
   ]
  },
  {
   "cell_type": "code",
   "execution_count": null,
   "metadata": {
    "ExecuteTime": {
     "end_time": "2021-04-01T02:24:07.684817Z",
     "start_time": "2021-04-01T02:24:07.669260Z"
    }
   },
   "outputs": [],
   "source": [
    "#Calculate CV\n",
    "Idaho['std'] = Idaho.loc[:,'2006-01':'2018-04'].std(axis=1)\n",
    "Idaho['mean'] = Idaho.loc[:,'2006-01':'2018-04'].mean(axis=1)\n",
    "Idaho['CV'] = Idaho['std'] / Idaho['mean']"
   ]
  },
  {
   "cell_type": "code",
   "execution_count": null,
   "metadata": {
    "ExecuteTime": {
     "end_time": "2021-04-01T02:24:08.452359Z",
     "start_time": "2021-04-01T02:24:07.689088Z"
    }
   },
   "outputs": [],
   "source": [
    "Idaho"
   ]
  },
  {
   "cell_type": "code",
   "execution_count": null,
   "metadata": {
    "ExecuteTime": {
     "end_time": "2021-04-01T02:24:08.458832Z",
     "start_time": "2021-04-01T02:24:08.455122Z"
    },
    "scrolled": true
   },
   "outputs": [],
   "source": [
    "print('Choosing to use 5yr ROI for historic ROI metric.')\n",
    "print('The least you should hold a Property or REIT is 5 years to see gains on income/appreciation.')"
   ]
  },
  {
   "cell_type": "markdown",
   "metadata": {},
   "source": [
    "## Narrowing zipcodes down to historic best 20? 25? Maybe look at a hist to see a divide?"
   ]
  },
  {
   "cell_type": "code",
   "execution_count": null,
   "metadata": {
    "ExecuteTime": {
     "end_time": "2021-04-01T02:24:08.741540Z",
     "start_time": "2021-04-01T02:24:08.461893Z"
    }
   },
   "outputs": [],
   "source": [
    "Idaho['5yr_ROI'].hist()"
   ]
  },
  {
   "cell_type": "markdown",
   "metadata": {},
   "source": [
    "## Trying to make maps"
   ]
  },
  {
   "cell_type": "code",
   "execution_count": null,
   "metadata": {
    "ExecuteTime": {
     "end_time": "2021-04-01T02:24:16.094479Z",
     "start_time": "2021-04-01T02:24:08.747679Z"
    }
   },
   "outputs": [],
   "source": [
    "import plotly.express as px\n",
    "from urllib.request import urlopen\n",
    "import json\n",
    "with urlopen('https://raw.githubusercontent.com/OpenDataDE/State-zip-code-GeoJSON/master/id_idaho_zip_codes_geo.min.json') as response:\n",
    "    Idaho_Map = json.load(response)\n",
    "\n",
    "Idaho_Map[\"features\"][0]"
   ]
  },
  {
   "cell_type": "code",
   "execution_count": null,
   "metadata": {
    "ExecuteTime": {
     "end_time": "2021-04-01T02:24:16.103858Z",
     "start_time": "2021-04-01T02:24:16.097734Z"
    }
   },
   "outputs": [],
   "source": [
    "#Don't run this will make the map but it will be too large of a size, deal with this later.\n",
    "\n",
    "#fig = px.choropleth(Idaho, geojson=Idaho_Map, color=\"5yr_ROI\",\n",
    "#                    locations=\"RegionName\", featureidkey=\"properties.ZCTA5CE10\",\n",
    "#                    projection=\"mercator\", hover_data=['City']\n",
    "#                   )\n",
    "#fig.update_geos(fitbounds=\"locations\", visible=True)\n",
    "#fig.update_layout(margin={\"r\":0,\"t\":0,\"l\":0,\"b\":0})\n",
    "#fig.show()"
   ]
  },
  {
   "cell_type": "markdown",
   "metadata": {
    "heading_collapsed": true
   },
   "source": [
    "## Stopped here"
   ]
  },
  {
   "cell_type": "code",
   "execution_count": null,
   "metadata": {
    "ExecuteTime": {
     "end_time": "2021-04-01T02:24:16.115248Z",
     "start_time": "2021-04-01T02:24:16.107084Z"
    },
    "hidden": true
   },
   "outputs": [],
   "source": [
    "def ROI_Column(df):\n",
    "    Number_of_rows=df.shape[0]\n",
    "    ROI_Col = []\n",
    "\n",
    "    for row in list(range(Number_of_rows)):\n",
    "        i = 2\n",
    "        \n",
    "        #To find the oldest entry\n",
    "        while pd.isna(df.iloc[row][i]):\n",
    "            i+=1\n",
    "        \n",
    "        #Calculating the ROI\n",
    "        ROI_Col.append((df.iloc[row][-1] - df.iloc[row][i])/df.iloc[row][i])\n",
    "        \n",
    "    #Adding the new ROI Column        \n",
    "    df['ROI'] = ROI_Col\n",
    "    \n",
    "    return df"
   ]
  },
  {
   "cell_type": "code",
   "execution_count": null,
   "metadata": {
    "ExecuteTime": {
     "end_time": "2021-04-01T02:24:16.843812Z",
     "start_time": "2021-04-01T02:24:16.120600Z"
    },
    "hidden": true
   },
   "outputs": [],
   "source": [
    "test2 = ROI_Column(data_ZipcodeID)\n",
    "test2.head()"
   ]
  },
  {
   "cell_type": "code",
   "execution_count": null,
   "metadata": {
    "ExecuteTime": {
     "end_time": "2021-04-01T02:24:16.853487Z",
     "start_time": "2021-04-01T02:24:03.250Z"
    },
    "hidden": true
   },
   "outputs": [],
   "source": [
    "#Maybe not best to do ROI from way back when, dont want to be holding property for 22 years.\n",
    "#Maybe do ROI from the latest 10 years?"
   ]
  },
  {
   "cell_type": "markdown",
   "metadata": {
    "heading_collapsed": true
   },
   "source": [
    "## Looking at latest price distribution of each zipcode"
   ]
  },
  {
   "cell_type": "code",
   "execution_count": null,
   "metadata": {
    "ExecuteTime": {
     "end_time": "2021-04-01T02:24:16.856308Z",
     "start_time": "2021-04-01T02:24:03.255Z"
    },
    "hidden": true
   },
   "outputs": [],
   "source": [
    "data['2018-04'].describe()"
   ]
  },
  {
   "cell_type": "code",
   "execution_count": null,
   "metadata": {
    "ExecuteTime": {
     "end_time": "2021-04-01T02:24:16.859107Z",
     "start_time": "2021-04-01T02:24:03.259Z"
    },
    "hidden": true
   },
   "outputs": [],
   "source": [
    "data['2018-04'].min()"
   ]
  },
  {
   "cell_type": "code",
   "execution_count": null,
   "metadata": {
    "ExecuteTime": {
     "end_time": "2021-04-01T02:24:16.869517Z",
     "start_time": "2021-04-01T02:24:03.263Z"
    },
    "hidden": true
   },
   "outputs": [],
   "source": [
    "# Shows the hist plot of zipcodes with prices between 50,000-3,000,000\n",
    "plt.hist(np.clip(data['2018-04'], 50000, 3000000), bins='auto');"
   ]
  },
  {
   "cell_type": "markdown",
   "metadata": {
    "heading_collapsed": true
   },
   "source": [
    "## Playground"
   ]
  },
  {
   "cell_type": "markdown",
   "metadata": {
    "hidden": true
   },
   "source": [
    "To do:\n",
    "- look at trends\n",
    "- maybe look in rolling mean\n",
    "- zoom in annomalies?"
   ]
  },
  {
   "cell_type": "code",
   "execution_count": null,
   "metadata": {
    "ExecuteTime": {
     "end_time": "2021-04-01T02:24:16.873764Z",
     "start_time": "2021-04-01T02:24:03.272Z"
    },
    "hidden": true
   },
   "outputs": [],
   "source": [
    "def get_datetimes(df):\n",
    "    return pd.to_datetime(df.columns.values[1:], format='%Y-%m')"
   ]
  },
  {
   "cell_type": "code",
   "execution_count": null,
   "metadata": {
    "ExecuteTime": {
     "end_time": "2021-04-01T02:24:16.876976Z",
     "start_time": "2021-04-01T02:24:03.277Z"
    },
    "hidden": true
   },
   "outputs": [],
   "source": [
    "def melt_data(df):\n",
    "    \n",
    "    #Makes the individual time columns into one column and each different time into individual rows\n",
    "    melted = pd.melt(df, id_vars=['RegionName', 'City', 'State', 'Metro', 'CountyName'], var_name='time')\n",
    "    \n",
    "    #Turns time column into the right date time format\n",
    "    melted['time'] = pd.to_datetime(melted['time'], infer_datetime_format=True)\n",
    "    \n",
    "    #Drops the na values from the value column\n",
    "    melted = melted.dropna(subset=['value'])\n",
    "    \n",
    "    #Groups all rows by time and calculates the mean across each entry for that time\n",
    "    return melted.groupby('time').aggregate({'value':'mean'}) "
   ]
  },
  {
   "cell_type": "code",
   "execution_count": null,
   "metadata": {
    "ExecuteTime": {
     "end_time": "2021-04-01T02:24:16.881068Z",
     "start_time": "2021-04-01T02:24:03.280Z"
    },
    "hidden": true
   },
   "outputs": [],
   "source": [
    "df = melt_data(data.drop(labels=['RegionID','SizeRank'], axis=1))"
   ]
  },
  {
   "cell_type": "code",
   "execution_count": null,
   "metadata": {
    "ExecuteTime": {
     "end_time": "2021-04-01T02:24:16.885057Z",
     "start_time": "2021-04-01T02:24:03.284Z"
    },
    "hidden": true
   },
   "outputs": [],
   "source": [
    "df.head(20)"
   ]
  },
  {
   "cell_type": "code",
   "execution_count": null,
   "metadata": {
    "ExecuteTime": {
     "end_time": "2021-04-01T02:24:16.891590Z",
     "start_time": "2021-04-01T02:24:03.289Z"
    },
    "hidden": true
   },
   "outputs": [],
   "source": [
    "df.shape"
   ]
  },
  {
   "cell_type": "code",
   "execution_count": null,
   "metadata": {
    "ExecuteTime": {
     "end_time": "2021-04-01T02:24:16.895651Z",
     "start_time": "2021-04-01T02:24:03.296Z"
    },
    "hidden": true
   },
   "outputs": [],
   "source": [
    "rent = pd.read_csv('Data/Metro_ZORI_AllHomesPlusMultifamily_SSA.csv')\n",
    "rent.head()"
   ]
  },
  {
   "cell_type": "code",
   "execution_count": null,
   "metadata": {
    "ExecuteTime": {
     "end_time": "2021-04-01T02:24:16.898897Z",
     "start_time": "2021-04-01T02:24:03.301Z"
    },
    "hidden": true
   },
   "outputs": [],
   "source": [
    "len(rent)"
   ]
  },
  {
   "cell_type": "code",
   "execution_count": null,
   "metadata": {
    "ExecuteTime": {
     "end_time": "2021-04-01T02:24:16.902219Z",
     "start_time": "2021-04-01T02:24:03.305Z"
    },
    "hidden": true
   },
   "outputs": [],
   "source": [
    "Idaho = test2[test2['State']=='ID']\n",
    "len(Idaho)"
   ]
  },
  {
   "cell_type": "code",
   "execution_count": null,
   "metadata": {
    "ExecuteTime": {
     "end_time": "2021-04-01T02:24:16.906359Z",
     "start_time": "2021-04-01T02:24:03.310Z"
    },
    "hidden": true
   },
   "outputs": [],
   "source": [
    "plt.hist(np.clip(Idaho['2018-04'], 50000, 3000000), bins='auto');"
   ]
  },
  {
   "cell_type": "code",
   "execution_count": null,
   "metadata": {
    "ExecuteTime": {
     "end_time": "2021-04-01T02:24:16.921930Z",
     "start_time": "2021-04-01T02:24:03.313Z"
    },
    "hidden": true
   },
   "outputs": [],
   "source": [
    "plt.hist(Idaho['2018-04'], bins='auto');"
   ]
  },
  {
   "cell_type": "code",
   "execution_count": null,
   "metadata": {
    "ExecuteTime": {
     "end_time": "2021-04-01T02:24:16.929395Z",
     "start_time": "2021-04-01T02:24:03.328Z"
    },
    "hidden": true
   },
   "outputs": [],
   "source": [
    "plt.hist(Idaho['ROI'],bins='auto');"
   ]
  },
  {
   "cell_type": "code",
   "execution_count": null,
   "metadata": {
    "ExecuteTime": {
     "end_time": "2021-04-01T02:24:16.932694Z",
     "start_time": "2021-04-01T02:24:03.331Z"
    },
    "hidden": true
   },
   "outputs": [],
   "source": [
    "Idaho['2018-04'].describe()"
   ]
  },
  {
   "cell_type": "code",
   "execution_count": null,
   "metadata": {
    "hidden": true
   },
   "outputs": [],
   "source": []
  }
 ],
 "metadata": {
  "kernelspec": {
   "display_name": "Python [conda env:learn-env] *",
   "language": "python",
   "name": "conda-env-learn-env-py"
  },
  "language_info": {
   "codemirror_mode": {
    "name": "ipython",
    "version": 3
   },
   "file_extension": ".py",
   "mimetype": "text/x-python",
   "name": "python",
   "nbconvert_exporter": "python",
   "pygments_lexer": "ipython3",
   "version": "3.6.9"
  },
  "toc": {
   "base_numbering": 1,
   "nav_menu": {},
   "number_sections": true,
   "sideBar": true,
   "skip_h1_title": false,
   "title_cell": "Table of Contents",
   "title_sidebar": "Contents",
   "toc_cell": false,
   "toc_position": {},
   "toc_section_display": true,
   "toc_window_display": false
  },
  "varInspector": {
   "cols": {
    "lenName": 16,
    "lenType": 16,
    "lenVar": 40
   },
   "kernels_config": {
    "python": {
     "delete_cmd_postfix": "",
     "delete_cmd_prefix": "del ",
     "library": "var_list.py",
     "varRefreshCmd": "print(var_dic_list())"
    },
    "r": {
     "delete_cmd_postfix": ") ",
     "delete_cmd_prefix": "rm(",
     "library": "var_list.r",
     "varRefreshCmd": "cat(var_dic_list()) "
    }
   },
   "types_to_exclude": [
    "module",
    "function",
    "builtin_function_or_method",
    "instance",
    "_Feature"
   ],
   "window_display": false
  }
 },
 "nbformat": 4,
 "nbformat_minor": 2
}
